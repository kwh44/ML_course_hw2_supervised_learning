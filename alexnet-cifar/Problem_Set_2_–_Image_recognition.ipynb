{
  "nbformat": 4,
  "nbformat_minor": 0,
  "metadata": {
    "kernelspec": {
      "display_name": "Python 3",
      "language": "python",
      "name": "python3"
    },
    "language_info": {
      "codemirror_mode": {
        "name": "ipython",
        "version": 3
      },
      "file_extension": ".py",
      "mimetype": "text/x-python",
      "name": "python",
      "nbconvert_exporter": "python",
      "pygments_lexer": "ipython3",
      "version": "3.8.2"
    },
    "colab": {
      "name": "Problem Set 2 – Image recognition.ipynb",
      "provenance": [],
      "collapsed_sections": []
    },
    "accelerator": "GPU"
  },
  "cells": [
    {
      "cell_type": "markdown",
      "metadata": {
        "id": "Ub0yenKS5BD3",
        "colab_type": "text"
      },
      "source": [
        "# Convolutional neural networks"
      ]
    },
    {
      "cell_type": "markdown",
      "metadata": {
        "id": "y6bx4zYf5BD7",
        "colab_type": "text"
      },
      "source": [
        "In class, we have briefly reviewed the idea of learning good features directly from data and went through the concept of convolutional neural networks along with few architectures.\n",
        "\n",
        "Until recently, building convolutional neural networks was tough. There was no high-level tools for that, you would be required to understand all the internal mechanics of the model and its operations.\n",
        "\n",
        "Today, due to the high-level tools such as Keras and TensorFlow, everybody can build a convolutional neural network and put it to work without diving deep into them. What used to be a one-month project became a few hours exercise.\n"
      ]
    },
    {
      "cell_type": "code",
      "metadata": {
        "id": "3Sn0qaNS5BEA",
        "colab_type": "code",
        "colab": {}
      },
      "source": [
        "import pickle\n",
        "import numpy as np\n",
        "import keras\n",
        "import matplotlib.pyplot as plt\n",
        "np.random.seed(44)"
      ],
      "execution_count": 0,
      "outputs": []
    },
    {
      "cell_type": "markdown",
      "metadata": {
        "id": "Jrwqpno75BEb",
        "colab_type": "text"
      },
      "source": [
        "## Loading the images"
      ]
    },
    {
      "cell_type": "code",
      "metadata": {
        "id": "-o0VhWpe5BEs",
        "colab_type": "code",
        "colab": {}
      },
      "source": [
        "train_images, train_labels = pickle.load(open('data/train_set_all.pkl', 'rb'))\n",
        "cv_images, cv_labels = pickle.load(open('data/test_set_all.pkl', 'rb'))"
      ],
      "execution_count": 0,
      "outputs": []
    },
    {
      "cell_type": "code",
      "metadata": {
        "id": "14KgyvWj5BE5",
        "colab_type": "code",
        "colab": {
          "base_uri": "https://localhost:8080/",
          "height": 52
        },
        "outputId": "0f95e494-782a-40c3-ee4d-bef7dded390b"
      },
      "source": [
        "print(train_images.shape)\n",
        "print(len(train_labels))"
      ],
      "execution_count": 6,
      "outputs": [
        {
          "output_type": "stream",
          "text": [
            "(50000, 32, 32, 3)\n",
            "50000\n"
          ],
          "name": "stdout"
        }
      ]
    },
    {
      "cell_type": "code",
      "metadata": {
        "id": "wHJyHJHH5BFG",
        "colab_type": "code",
        "colab": {
          "base_uri": "https://localhost:8080/",
          "height": 52
        },
        "outputId": "0ceec35a-539c-4ceb-ac37-b761f76feb5f"
      },
      "source": [
        "print(cv_images.shape)\n",
        "print(len(cv_labels))"
      ],
      "execution_count": 7,
      "outputs": [
        {
          "output_type": "stream",
          "text": [
            "(10000, 32, 32, 3)\n",
            "10000\n"
          ],
          "name": "stdout"
        }
      ]
    },
    {
      "cell_type": "code",
      "metadata": {
        "id": "0b4Y6eEY5BFV",
        "colab_type": "code",
        "colab": {
          "base_uri": "https://localhost:8080/",
          "height": 34
        },
        "outputId": "35ac79c4-e655-4891-cf27-954300a582ba"
      },
      "source": [
        "print(train_labels[0:10])"
      ],
      "execution_count": 8,
      "outputs": [
        {
          "output_type": "stream",
          "text": [
            "[6, 9, 9, 4, 1, 1, 2, 7, 8, 3]\n"
          ],
          "name": "stdout"
        }
      ]
    },
    {
      "cell_type": "code",
      "metadata": {
        "id": "uSHEPCvg5BFg",
        "colab_type": "code",
        "colab": {}
      },
      "source": [
        "def show_image(np_array):\n",
        "    %matplotlib inline\n",
        "    plt.figure()\n",
        "    plt.imshow(np_array)"
      ],
      "execution_count": 0,
      "outputs": []
    },
    {
      "cell_type": "code",
      "metadata": {
        "id": "JyeJjG4S5BFp",
        "colab_type": "code",
        "colab": {}
      },
      "source": [
        "def show_example(data_set, labels, example_index):\n",
        "    show_image(data_set[example_index])\n",
        "    print('Label: ', labels[example_index])"
      ],
      "execution_count": 0,
      "outputs": []
    },
    {
      "cell_type": "code",
      "metadata": {
        "id": "SqLxshqu5BF0",
        "colab_type": "code",
        "colab": {
          "base_uri": "https://localhost:8080/",
          "height": 283
        },
        "outputId": "00f960dc-deba-430c-b1b7-0d688fd0be53"
      },
      "source": [
        "show_example(train_images, train_labels, example_index = 0)"
      ],
      "execution_count": 11,
      "outputs": [
        {
          "output_type": "stream",
          "text": [
            "Label:  6\n"
          ],
          "name": "stdout"
        },
        {
          "output_type": "display_data",
          "data": {
            "image/png": "[encoded data removed]",
            "text/plain": [
              "<Figure size 432x288 with 1 Axes>"
            ]
          },
          "metadata": {
            "tags": [],
            "needs_background": "light"
          }
        }
      ]
    },
    {
      "cell_type": "code",
      "metadata": {
        "id": "bLmqRyGB5BF-",
        "colab_type": "code",
        "colab": {
          "base_uri": "https://localhost:8080/",
          "height": 283
        },
        "outputId": "49909546-61f0-4880-b9ef-7a4c6d4b08cc"
      },
      "source": [
        "show_example(cv_images, cv_labels, example_index = 0)"
      ],
      "execution_count": 12,
      "outputs": [
        {
          "output_type": "stream",
          "text": [
            "Label:  3\n"
          ],
          "name": "stdout"
        },
        {
          "output_type": "display_data",
          "data": {
            "image/png": "[encoded data removed]",
            "text/plain": [
              "<Figure size 432x288 with 1 Axes>"
            ]
          },
          "metadata": {
            "tags": [],
            "needs_background": "light"
          }
        }
      ]
    },
    {
      "cell_type": "markdown",
      "metadata": {
        "id": "HC4UZhDC5BGK",
        "colab_type": "text"
      },
      "source": [
        "## Building AlexNet"
      ]
    },
    {
      "cell_type": "markdown",
      "metadata": {
        "id": "M4LMk4CT5BGL",
        "colab_type": "text"
      },
      "source": [
        "In 2012 a convolutional neural network called AlexNet won ImageNet competition. \n",
        "\n",
        "Go through an [original AlexNet paper](https://papers.nips.cc/paper/4824-imagenet-classification-with-deep-convolutional-neural-networks.pdf) to investigate the architecture. Next, investigate the [basics of Keras](https://keras.io/#keras-the-python-deep-learning-library). We will use it with TensorFlow backend.\n",
        "\n",
        "You are also encouraged to go through some CNN tutorial for Keras. There is a number of them online (for example, [this](https://elitedatascience.com/keras-tutorial-deep-learning-in-python) or [this](https://machinelearningmastery.com/handwritten-digit-recognition-using-convolutional-neural-networks-python-keras/)).\n",
        "Now, build AlexNex network with Keras for object recognition. Note that standard AlexNet works with 224x224 input images. The dataset you are going to use for this problem is 32x32."
      ]
    },
    {
      "cell_type": "code",
      "metadata": {
        "id": "znN4iowd5BGN",
        "colab_type": "code",
        "colab": {
          "base_uri": "https://localhost:8080/",
          "height": 573
        },
        "outputId": "29379992-47f8-4052-e407-a40b8af66fca"
      },
      "source": [
        "from keras.models import Sequential\n",
        "from keras.layers import Dense, Activation, Dropout, Flatten, Conv2D, MaxPooling2D\n",
        "from keras.layers.normalization import BatchNormalization\n",
        "\n",
        "model = Sequential()\n",
        "\n",
        "model.add(Conv2D(filters=96, input_shape=(32,32,3), kernel_size=(3,3), strides=(4,4), activation=\"relu\"))\n",
        "\n",
        "model.add(MaxPooling2D(pool_size=(3,3), strides=(2,2)))\n",
        "\n",
        "model.add(Conv2D(filters=256, kernel_size=(5,5), strides=(1,1), padding=\"same\", activation=\"relu\"))\n",
        "\n",
        "model.add(MaxPooling2D(pool_size=(2,2), strides=(2,2)))\n",
        "\n",
        "model.add(Conv2D(filters=384, kernel_size=(3,3), strides=(1,1), padding=\"same\", activation=\"relu\"))\n",
        "\n",
        "model.add(Conv2D(filters=384, kernel_size=(3,3), strides=(1,1), padding=\"same\", activation=\"relu\"))\n",
        "\n",
        "model.add(Conv2D(filters=256, kernel_size=(3,3), strides=(1,1), padding=\"same\", activation=\"relu\"))\n",
        "\n",
        "model.add(MaxPooling2D(pool_size=(2,2), strides=(2,2), padding=\"same\"))\n",
        "\n",
        "model.add(Flatten())\n",
        "\n",
        "model.add(Dense(4096, input_shape=(32*32*3,), activation=\"relu\"))\n",
        "\n",
        "model.add(Dense(4096, activation=\"relu\"))\n",
        "\n",
        "model.add(Dense(10, activation=\"softmax\"))\n",
        "\n",
        "model.summary()"
      ],
      "execution_count": 76,
      "outputs": [
        {
          "output_type": "stream",
          "text": [
            "Model: \"sequential_17\"\n",
            "_________________________________________________________________\n",
            "Layer (type)                 Output Shape              Param #   \n",
            "=================================================================\n",
            "conv2d_81 (Conv2D)           (None, 8, 8, 96)          2688      \n",
            "_________________________________________________________________\n",
            "max_pooling2d_49 (MaxPooling (None, 3, 3, 96)          0         \n",
            "_________________________________________________________________\n",
            "conv2d_82 (Conv2D)           (None, 3, 3, 256)         614656    \n",
            "_________________________________________________________________\n",
            "max_pooling2d_50 (MaxPooling (None, 1, 1, 256)         0         \n",
            "_________________________________________________________________\n",
            "conv2d_83 (Conv2D)           (None, 1, 1, 384)         885120    \n",
            "_________________________________________________________________\n",
            "conv2d_84 (Conv2D)           (None, 1, 1, 384)         1327488   \n",
            "_________________________________________________________________\n",
            "conv2d_85 (Conv2D)           (None, 1, 1, 256)         884992    \n",
            "_________________________________________________________________\n",
            "max_pooling2d_51 (MaxPooling (None, 1, 1, 256)         0         \n",
            "_________________________________________________________________\n",
            "flatten_13 (Flatten)         (None, 256)               0         \n",
            "_________________________________________________________________\n",
            "dense_38 (Dense)             (None, 4096)              1052672   \n",
            "_________________________________________________________________\n",
            "dense_39 (Dense)             (None, 4096)              16781312  \n",
            "_________________________________________________________________\n",
            "dense_40 (Dense)             (None, 10)                40970     \n",
            "=================================================================\n",
            "Total params: 21,589,898\n",
            "Trainable params: 21,589,898\n",
            "Non-trainable params: 0\n",
            "_________________________________________________________________\n"
          ],
          "name": "stdout"
        }
      ]
    },
    {
      "cell_type": "code",
      "metadata": {
        "id": "Q_C6y9zp5BGa",
        "colab_type": "code",
        "colab": {}
      },
      "source": [
        "model.compile(loss='categorical_crossentropy',\n",
        "              optimizer='rmsprop',\n",
        "              metrics=['accuracy'])"
      ],
      "execution_count": 0,
      "outputs": []
    },
    {
      "cell_type": "code",
      "metadata": {
        "id": "Be1zEZ8H5BGm",
        "colab_type": "code",
        "colab": {}
      },
      "source": [
        "train_labels = keras.utils.to_categorical(train_labels, num_classes=10, dtype='int32') \n",
        "cv_labels = keras.utils.to_categorical(cv_labels, num_classes=10, dtype='int32') "
      ],
      "execution_count": 0,
      "outputs": []
    },
    {
      "cell_type": "markdown",
      "metadata": {
        "id": "cJwcGltk5BGv",
        "colab_type": "text"
      },
      "source": [
        "## Training AlexNet"
      ]
    },
    {
      "cell_type": "markdown",
      "metadata": {
        "id": "M5tRohqS5BGx",
        "colab_type": "text"
      },
      "source": [
        "Use training set for training the network to recognize objects. You might want to use RMSProp optimizer to speed up the training.\n",
        "\n",
        "Convolutional networks require a lot of computing power for training. Typical setup for training CNN is to use GPU, however, in this problem you are not required to do so. CPU will be fine as well.\n",
        "\n",
        "If you are using CPU for this subproblem, training process might be slow. You can stop it manually as soon as you get meaningful results.\n",
        "\n",
        "Report the results on the training and cross-validation sets. The report should contain the training logs."
      ]
    },
    {
      "cell_type": "code",
      "metadata": {
        "id": "yShBtAiy5BGz",
        "colab_type": "code",
        "colab": {
          "base_uri": "https://localhost:8080/",
          "height": 1000
        },
        "outputId": "d739526b-4265-4424-ae64-76bdd954ca3e"
      },
      "source": [
        "epochs = 50\n",
        "batch_size = 512\n",
        "model.fit(train_images, train_labels,\n",
        "          batch_size=batch_size,\n",
        "          epochs=epochs)"
      ],
      "execution_count": 79,
      "outputs": [
        {
          "output_type": "stream",
          "text": [
            "Epoch 1/50\n",
            "50000/50000 [==============================] - 3s 67us/step - loss: 2.9714 - accuracy: 0.1245\n",
            "Epoch 2/50\n",
            "50000/50000 [==============================] - 3s 63us/step - loss: 2.1816 - accuracy: 0.1835\n",
            "Epoch 3/50\n",
            "50000/50000 [==============================] - 3s 63us/step - loss: 1.9956 - accuracy: 0.2477\n",
            "Epoch 4/50\n",
            "50000/50000 [==============================] - 3s 63us/step - loss: 1.8856 - accuracy: 0.3010\n",
            "Epoch 5/50\n",
            "50000/50000 [==============================] - 3s 64us/step - loss: 1.7750 - accuracy: 0.3475\n",
            "Epoch 6/50\n",
            "50000/50000 [==============================] - 3s 63us/step - loss: 1.7139 - accuracy: 0.3807\n",
            "Epoch 7/50\n",
            "50000/50000 [==============================] - 3s 63us/step - loss: 1.6149 - accuracy: 0.4233\n",
            "Epoch 8/50\n",
            "50000/50000 [==============================] - 3s 63us/step - loss: 1.5492 - accuracy: 0.4498\n",
            "Epoch 9/50\n",
            "50000/50000 [==============================] - 3s 63us/step - loss: 1.4942 - accuracy: 0.4724\n",
            "Epoch 10/50\n",
            "50000/50000 [==============================] - 3s 63us/step - loss: 1.4149 - accuracy: 0.5037\n",
            "Epoch 11/50\n",
            "50000/50000 [==============================] - 3s 63us/step - loss: 1.3695 - accuracy: 0.5217\n",
            "Epoch 12/50\n",
            "50000/50000 [==============================] - 3s 63us/step - loss: 1.2932 - accuracy: 0.5476\n",
            "Epoch 13/50\n",
            "50000/50000 [==============================] - 3s 63us/step - loss: 1.2470 - accuracy: 0.5680\n",
            "Epoch 14/50\n",
            "50000/50000 [==============================] - 3s 63us/step - loss: 1.1854 - accuracy: 0.5895\n",
            "Epoch 15/50\n",
            "50000/50000 [==============================] - 3s 63us/step - loss: 1.1412 - accuracy: 0.6082\n",
            "Epoch 16/50\n",
            "50000/50000 [==============================] - 3s 62us/step - loss: 1.0797 - accuracy: 0.6294\n",
            "Epoch 17/50\n",
            "50000/50000 [==============================] - 3s 62us/step - loss: 1.0414 - accuracy: 0.6398\n",
            "Epoch 18/50\n",
            "50000/50000 [==============================] - 3s 63us/step - loss: 0.9778 - accuracy: 0.6625\n",
            "Epoch 19/50\n",
            "50000/50000 [==============================] - 3s 63us/step - loss: 0.9413 - accuracy: 0.6768\n",
            "Epoch 20/50\n",
            "50000/50000 [==============================] - 3s 62us/step - loss: 0.9006 - accuracy: 0.6902\n",
            "Epoch 21/50\n",
            "50000/50000 [==============================] - 3s 62us/step - loss: 0.8413 - accuracy: 0.7112\n",
            "Epoch 22/50\n",
            "50000/50000 [==============================] - 3s 63us/step - loss: 0.7886 - accuracy: 0.7291\n",
            "Epoch 23/50\n",
            "50000/50000 [==============================] - 3s 63us/step - loss: 0.7570 - accuracy: 0.7417\n",
            "Epoch 24/50\n",
            "50000/50000 [==============================] - 3s 63us/step - loss: 0.7312 - accuracy: 0.7539\n",
            "Epoch 25/50\n",
            "50000/50000 [==============================] - 3s 63us/step - loss: 0.6807 - accuracy: 0.7713\n",
            "Epoch 26/50\n",
            "50000/50000 [==============================] - 3s 63us/step - loss: 0.6514 - accuracy: 0.7816\n",
            "Epoch 27/50\n",
            "50000/50000 [==============================] - 3s 63us/step - loss: 0.6086 - accuracy: 0.7941\n",
            "Epoch 28/50\n",
            "50000/50000 [==============================] - 3s 62us/step - loss: 0.5954 - accuracy: 0.8027\n",
            "Epoch 29/50\n",
            "50000/50000 [==============================] - 3s 63us/step - loss: 0.5477 - accuracy: 0.8178\n",
            "Epoch 30/50\n",
            "50000/50000 [==============================] - 3s 62us/step - loss: 0.5457 - accuracy: 0.8208\n",
            "Epoch 31/50\n",
            "50000/50000 [==============================] - 3s 62us/step - loss: 0.4968 - accuracy: 0.8348\n",
            "Epoch 32/50\n",
            "50000/50000 [==============================] - 3s 63us/step - loss: 0.4888 - accuracy: 0.8422\n",
            "Epoch 33/50\n",
            "50000/50000 [==============================] - 3s 63us/step - loss: 0.4479 - accuracy: 0.8536\n",
            "Epoch 34/50\n",
            "50000/50000 [==============================] - 3s 62us/step - loss: 0.4311 - accuracy: 0.8617\n",
            "Epoch 35/50\n",
            "50000/50000 [==============================] - 3s 63us/step - loss: 0.4496 - accuracy: 0.8590\n",
            "Epoch 36/50\n",
            "50000/50000 [==============================] - 3s 63us/step - loss: 0.4079 - accuracy: 0.8710\n",
            "Epoch 37/50\n",
            "50000/50000 [==============================] - 3s 62us/step - loss: 0.3946 - accuracy: 0.8801\n",
            "Epoch 38/50\n",
            "50000/50000 [==============================] - 3s 62us/step - loss: 0.3788 - accuracy: 0.8808\n",
            "Epoch 39/50\n",
            "50000/50000 [==============================] - 3s 63us/step - loss: 0.3569 - accuracy: 0.8891\n",
            "Epoch 40/50\n",
            "50000/50000 [==============================] - 3s 62us/step - loss: 0.3403 - accuracy: 0.8951\n",
            "Epoch 41/50\n",
            "50000/50000 [==============================] - 3s 62us/step - loss: 0.3255 - accuracy: 0.8989\n",
            "Epoch 42/50\n",
            "50000/50000 [==============================] - 3s 62us/step - loss: 0.3291 - accuracy: 0.9001\n",
            "Epoch 43/50\n",
            "50000/50000 [==============================] - 3s 63us/step - loss: 0.3034 - accuracy: 0.9081\n",
            "Epoch 44/50\n",
            "50000/50000 [==============================] - 3s 63us/step - loss: 0.3175 - accuracy: 0.9091\n",
            "Epoch 45/50\n",
            "50000/50000 [==============================] - 3s 62us/step - loss: 0.2855 - accuracy: 0.9158\n",
            "Epoch 46/50\n",
            "50000/50000 [==============================] - 3s 63us/step - loss: 0.2939 - accuracy: 0.9141\n",
            "Epoch 47/50\n",
            "50000/50000 [==============================] - 3s 62us/step - loss: 0.2934 - accuracy: 0.9184\n",
            "Epoch 48/50\n",
            "50000/50000 [==============================] - 3s 63us/step - loss: 0.2930 - accuracy: 0.9136\n",
            "Epoch 49/50\n",
            "50000/50000 [==============================] - 3s 63us/step - loss: 0.2789 - accuracy: 0.9229\n",
            "Epoch 50/50\n",
            "50000/50000 [==============================] - 3s 63us/step - loss: 0.2669 - accuracy: 0.9264\n"
          ],
          "name": "stdout"
        },
        {
          "output_type": "execute_result",
          "data": {
            "text/plain": [
              "<keras.callbacks.callbacks.History at 0x7f5479734e80>"
            ]
          },
          "metadata": {
            "tags": []
          },
          "execution_count": 79
        }
      ]
    },
    {
      "cell_type": "code",
      "metadata": {
        "id": "NjYFmtlh5BHB",
        "colab_type": "code",
        "colab": {
          "base_uri": "https://localhost:8080/",
          "height": 69
        },
        "outputId": "927223f0-9b0b-4a83-f4e8-d11499d95a1f"
      },
      "source": [
        "scores = model.evaluate(cv_images, cv_labels)\n",
        "print('Test loss:', scores[0])\n",
        "print('Test accuracy:', scores[1])"
      ],
      "execution_count": 80,
      "outputs": [
        {
          "output_type": "stream",
          "text": [
            "10000/10000 [==============================] - 1s 117us/step\n",
            "Test loss: 4.4461366756439205\n",
            "Test accuracy: 0.5372999906539917\n"
          ],
          "name": "stdout"
        }
      ]
    },
    {
      "cell_type": "markdown",
      "metadata": {
        "id": "WJd_055e5BHI",
        "colab_type": "text"
      },
      "source": [
        "## Improving AlexNet"
      ]
    },
    {
      "cell_type": "markdown",
      "metadata": {
        "id": "psN04u-f5BHM",
        "colab_type": "text"
      },
      "source": [
        "As you can see, AlexNet does not work very well on such a small dataset. Recall what you have learned from this class to improve its performance. You can also take a look at the [Dropout technique](https://www.cs.toronto.edu/~hinton/absps/JMLRdropout.pdf) and its [implementation in Keras](https://keras.io/layers/core/#dropout). "
      ]
    },
    {
      "cell_type": "code",
      "metadata": {
        "id": "GQxR1Gp95BHM",
        "colab_type": "code",
        "colab": {
          "base_uri": "https://localhost:8080/",
          "height": 642
        },
        "outputId": "a8159893-5918-44a0-f0c4-4630c4f6fe9b"
      },
      "source": [
        "from keras.models import Sequential\n",
        "from keras.layers import Dense, Activation, Dropout, Flatten, Conv2D, MaxPooling2D\n",
        "from keras.layers.normalization import BatchNormalization\n",
        "\n",
        "model = Sequential()\n",
        "\n",
        "model.add(Conv2D(filters=96, input_shape=(32,32,3), kernel_size=(3, 3), strides=(4,4), activation=\"relu\"))\n",
        "\n",
        "model.add(MaxPooling2D(pool_size=(3,3), strides=(2,2)))\n",
        "\n",
        "model.add(Conv2D(filters=150, kernel_size=(3,3), strides=(1,1), padding=\"same\", activation=\"relu\"))\n",
        "\n",
        "model.add(MaxPooling2D(pool_size=(2,2), strides=(2,2)))\n",
        "\n",
        "model.add(Conv2D(filters=120, kernel_size=(4,4), strides=(1,1), padding=\"same\", activation=\"relu\"))\n",
        "\n",
        "model.add(Conv2D(filters=120, kernel_size=(5,5), strides=(1,1), padding=\"same\", activation=\"relu\"))\n",
        "\n",
        "model.add(Conv2D(filters=120, kernel_size=(6,6), strides=(1,1), padding=\"same\", activation=\"relu\"))\n",
        "\n",
        "model.add(MaxPooling2D(pool_size=(2,2), strides=(2,2), padding=\"same\"))\n",
        "model.add(Flatten())\n",
        "\n",
        "model.add(Dense(600, input_shape=(32*32*3,), activation=\"relu\"))\n",
        "model.add(Dropout(0.4))\n",
        "\n",
        "model.add(Dense(300, activation=\"relu\"))\n",
        "model.add(Dropout(0.4))\n",
        "\n",
        "model.add(Dense(10, activation=\"softmax\"))\n",
        "\n",
        "model.summary()"
      ],
      "execution_count": 86,
      "outputs": [
        {
          "output_type": "stream",
          "text": [
            "Model: \"sequential_20\"\n",
            "_________________________________________________________________\n",
            "Layer (type)                 Output Shape              Param #   \n",
            "=================================================================\n",
            "conv2d_96 (Conv2D)           (None, 8, 8, 96)          2688      \n",
            "_________________________________________________________________\n",
            "max_pooling2d_58 (MaxPooling (None, 3, 3, 96)          0         \n",
            "_________________________________________________________________\n",
            "conv2d_97 (Conv2D)           (None, 3, 3, 150)         129750    \n",
            "_________________________________________________________________\n",
            "max_pooling2d_59 (MaxPooling (None, 1, 1, 150)         0         \n",
            "_________________________________________________________________\n",
            "conv2d_98 (Conv2D)           (None, 1, 1, 120)         288120    \n",
            "_________________________________________________________________\n",
            "conv2d_99 (Conv2D)           (None, 1, 1, 120)         360120    \n",
            "_________________________________________________________________\n",
            "conv2d_100 (Conv2D)          (None, 1, 1, 120)         518520    \n",
            "_________________________________________________________________\n",
            "max_pooling2d_60 (MaxPooling (None, 1, 1, 120)         0         \n",
            "_________________________________________________________________\n",
            "flatten_16 (Flatten)         (None, 120)               0         \n",
            "_________________________________________________________________\n",
            "dense_47 (Dense)             (None, 600)               72600     \n",
            "_________________________________________________________________\n",
            "dropout_19 (Dropout)         (None, 600)               0         \n",
            "_________________________________________________________________\n",
            "dense_48 (Dense)             (None, 300)               180300    \n",
            "_________________________________________________________________\n",
            "dropout_20 (Dropout)         (None, 300)               0         \n",
            "_________________________________________________________________\n",
            "dense_49 (Dense)             (None, 10)                3010      \n",
            "=================================================================\n",
            "Total params: 1,555,108\n",
            "Trainable params: 1,555,108\n",
            "Non-trainable params: 0\n",
            "_________________________________________________________________\n"
          ],
          "name": "stdout"
        }
      ]
    },
    {
      "cell_type": "code",
      "metadata": {
        "id": "BW3cSKRAHLET",
        "colab_type": "code",
        "colab": {}
      },
      "source": [
        "model.compile(loss='categorical_crossentropy',\n",
        "              optimizer='adam',\n",
        "              metrics=['accuracy'])"
      ],
      "execution_count": 0,
      "outputs": []
    },
    {
      "cell_type": "code",
      "metadata": {
        "id": "ieIpyYv88ErQ",
        "colab_type": "code",
        "colab": {
          "base_uri": "https://localhost:8080/",
          "height": 1000
        },
        "outputId": "7f952283-f1fa-43d0-d61a-c7449ddedd2d"
      },
      "source": [
        "epochs = 80\n",
        "batch_size = 512\n",
        "model.fit(train_images, train_labels,\n",
        "          batch_size=batch_size,\n",
        "          epochs=epochs)"
      ],
      "execution_count": 88,
      "outputs": [
        {
          "output_type": "stream",
          "text": [
            "Epoch 1/80\n",
            "50000/50000 [==============================] - 2s 35us/step - loss: 2.0041 - accuracy: 0.2194\n",
            "Epoch 2/80\n",
            "50000/50000 [==============================] - 1s 29us/step - loss: 1.7273 - accuracy: 0.3276\n",
            "Epoch 3/80\n",
            "50000/50000 [==============================] - 2s 30us/step - loss: 1.6024 - accuracy: 0.3918\n",
            "Epoch 4/80\n",
            "50000/50000 [==============================] - 1s 29us/step - loss: 1.5011 - accuracy: 0.4432\n",
            "Epoch 5/80\n",
            "50000/50000 [==============================] - 1s 29us/step - loss: 1.4154 - accuracy: 0.4877\n",
            "Epoch 6/80\n",
            "50000/50000 [==============================] - 1s 28us/step - loss: 1.3591 - accuracy: 0.5137\n",
            "Epoch 7/80\n",
            "50000/50000 [==============================] - 1s 28us/step - loss: 1.2925 - accuracy: 0.5389\n",
            "Epoch 8/80\n",
            "50000/50000 [==============================] - 1s 28us/step - loss: 1.2497 - accuracy: 0.5556\n",
            "Epoch 9/80\n",
            "50000/50000 [==============================] - 1s 28us/step - loss: 1.2238 - accuracy: 0.5624\n",
            "Epoch 10/80\n",
            "50000/50000 [==============================] - 1s 29us/step - loss: 1.1821 - accuracy: 0.5843\n",
            "Epoch 11/80\n",
            "50000/50000 [==============================] - 1s 29us/step - loss: 1.1549 - accuracy: 0.5926\n",
            "Epoch 12/80\n",
            "50000/50000 [==============================] - 1s 28us/step - loss: 1.1307 - accuracy: 0.6013\n",
            "Epoch 13/80\n",
            "50000/50000 [==============================] - 1s 29us/step - loss: 1.0925 - accuracy: 0.6175\n",
            "Epoch 14/80\n",
            "50000/50000 [==============================] - 1s 28us/step - loss: 1.0628 - accuracy: 0.6285\n",
            "Epoch 15/80\n",
            "50000/50000 [==============================] - 1s 29us/step - loss: 1.0410 - accuracy: 0.6361\n",
            "Epoch 16/80\n",
            "50000/50000 [==============================] - 1s 28us/step - loss: 0.9984 - accuracy: 0.6498\n",
            "Epoch 17/80\n",
            "50000/50000 [==============================] - 1s 28us/step - loss: 0.9709 - accuracy: 0.6603\n",
            "Epoch 18/80\n",
            "50000/50000 [==============================] - 1s 30us/step - loss: 0.9619 - accuracy: 0.6646\n",
            "Epoch 19/80\n",
            "50000/50000 [==============================] - 1s 28us/step - loss: 0.9367 - accuracy: 0.6743\n",
            "Epoch 20/80\n",
            "50000/50000 [==============================] - 1s 28us/step - loss: 0.9136 - accuracy: 0.6835\n",
            "Epoch 21/80\n",
            "50000/50000 [==============================] - 1s 28us/step - loss: 0.8854 - accuracy: 0.6927\n",
            "Epoch 22/80\n",
            "50000/50000 [==============================] - 1s 29us/step - loss: 0.8741 - accuracy: 0.6974\n",
            "Epoch 23/80\n",
            "50000/50000 [==============================] - 1s 28us/step - loss: 0.8553 - accuracy: 0.7045\n",
            "Epoch 24/80\n",
            "50000/50000 [==============================] - 1s 28us/step - loss: 0.8197 - accuracy: 0.7125\n",
            "Epoch 25/80\n",
            "50000/50000 [==============================] - 1s 29us/step - loss: 0.8078 - accuracy: 0.7192\n",
            "Epoch 26/80\n",
            "50000/50000 [==============================] - 1s 30us/step - loss: 0.7939 - accuracy: 0.7252\n",
            "Epoch 27/80\n",
            "50000/50000 [==============================] - 1s 29us/step - loss: 0.7825 - accuracy: 0.7273\n",
            "Epoch 28/80\n",
            "50000/50000 [==============================] - 1s 29us/step - loss: 0.7429 - accuracy: 0.7424\n",
            "Epoch 29/80\n",
            "50000/50000 [==============================] - 1s 29us/step - loss: 0.7333 - accuracy: 0.7456\n",
            "Epoch 30/80\n",
            "50000/50000 [==============================] - 1s 29us/step - loss: 0.7225 - accuracy: 0.7505\n",
            "Epoch 31/80\n",
            "50000/50000 [==============================] - 1s 28us/step - loss: 0.6939 - accuracy: 0.7595\n",
            "Epoch 32/80\n",
            "50000/50000 [==============================] - 1s 29us/step - loss: 0.6833 - accuracy: 0.7646\n",
            "Epoch 33/80\n",
            "50000/50000 [==============================] - 1s 30us/step - loss: 0.6827 - accuracy: 0.7646\n",
            "Epoch 34/80\n",
            "50000/50000 [==============================] - 1s 28us/step - loss: 0.6505 - accuracy: 0.7746\n",
            "Epoch 35/80\n",
            "50000/50000 [==============================] - 1s 28us/step - loss: 0.6423 - accuracy: 0.7781\n",
            "Epoch 36/80\n",
            "50000/50000 [==============================] - 1s 28us/step - loss: 0.6165 - accuracy: 0.7885\n",
            "Epoch 37/80\n",
            "50000/50000 [==============================] - 1s 28us/step - loss: 0.6218 - accuracy: 0.7851\n",
            "Epoch 38/80\n",
            "50000/50000 [==============================] - 1s 28us/step - loss: 0.5917 - accuracy: 0.7965\n",
            "Epoch 39/80\n",
            "50000/50000 [==============================] - 1s 28us/step - loss: 0.5806 - accuracy: 0.7983\n",
            "Epoch 40/80\n",
            "50000/50000 [==============================] - 1s 29us/step - loss: 0.5722 - accuracy: 0.8016\n",
            "Epoch 41/80\n",
            "50000/50000 [==============================] - 1s 29us/step - loss: 0.5649 - accuracy: 0.8041\n",
            "Epoch 42/80\n",
            "50000/50000 [==============================] - 1s 28us/step - loss: 0.5340 - accuracy: 0.8171\n",
            "Epoch 43/80\n",
            "50000/50000 [==============================] - 1s 28us/step - loss: 0.5408 - accuracy: 0.8148\n",
            "Epoch 44/80\n",
            "50000/50000 [==============================] - 1s 29us/step - loss: 0.5319 - accuracy: 0.8152\n",
            "Epoch 45/80\n",
            "50000/50000 [==============================] - 1s 29us/step - loss: 0.5195 - accuracy: 0.8208\n",
            "Epoch 46/80\n",
            "50000/50000 [==============================] - 1s 28us/step - loss: 0.5024 - accuracy: 0.8274\n",
            "Epoch 47/80\n",
            "50000/50000 [==============================] - 1s 28us/step - loss: 0.5052 - accuracy: 0.8269\n",
            "Epoch 48/80\n",
            "50000/50000 [==============================] - 1s 29us/step - loss: 0.4923 - accuracy: 0.8305\n",
            "Epoch 49/80\n",
            "50000/50000 [==============================] - 1s 29us/step - loss: 0.4926 - accuracy: 0.8309\n",
            "Epoch 50/80\n",
            "50000/50000 [==============================] - 1s 28us/step - loss: 0.4561 - accuracy: 0.8449\n",
            "Epoch 51/80\n",
            "50000/50000 [==============================] - 1s 28us/step - loss: 0.4645 - accuracy: 0.8423\n",
            "Epoch 52/80\n",
            "50000/50000 [==============================] - 1s 28us/step - loss: 0.4464 - accuracy: 0.8475\n",
            "Epoch 53/80\n",
            "50000/50000 [==============================] - 1s 28us/step - loss: 0.4388 - accuracy: 0.8495\n",
            "Epoch 54/80\n",
            "50000/50000 [==============================] - 1s 28us/step - loss: 0.4122 - accuracy: 0.8589\n",
            "Epoch 55/80\n",
            "50000/50000 [==============================] - 1s 28us/step - loss: 0.4179 - accuracy: 0.8574\n",
            "Epoch 56/80\n",
            "50000/50000 [==============================] - 1s 29us/step - loss: 0.4255 - accuracy: 0.8547\n",
            "Epoch 57/80\n",
            "50000/50000 [==============================] - 1s 28us/step - loss: 0.3892 - accuracy: 0.8679\n",
            "Epoch 58/80\n",
            "50000/50000 [==============================] - 1s 28us/step - loss: 0.4232 - accuracy: 0.8539\n",
            "Epoch 59/80\n",
            "50000/50000 [==============================] - 1s 28us/step - loss: 0.4067 - accuracy: 0.8613\n",
            "Epoch 60/80\n",
            "50000/50000 [==============================] - 1s 28us/step - loss: 0.3656 - accuracy: 0.8749\n",
            "Epoch 61/80\n",
            "50000/50000 [==============================] - 1s 28us/step - loss: 0.3824 - accuracy: 0.8696\n",
            "Epoch 62/80\n",
            "50000/50000 [==============================] - 1s 28us/step - loss: 0.3672 - accuracy: 0.8740\n",
            "Epoch 63/80\n",
            "50000/50000 [==============================] - 1s 28us/step - loss: 0.3752 - accuracy: 0.8713\n",
            "Epoch 64/80\n",
            "50000/50000 [==============================] - 1s 28us/step - loss: 0.3757 - accuracy: 0.8725\n",
            "Epoch 65/80\n",
            "50000/50000 [==============================] - 1s 28us/step - loss: 0.3644 - accuracy: 0.8761\n",
            "Epoch 66/80\n",
            "50000/50000 [==============================] - 1s 29us/step - loss: 0.3409 - accuracy: 0.8845\n",
            "Epoch 67/80\n",
            "50000/50000 [==============================] - 1s 28us/step - loss: 0.3508 - accuracy: 0.8797\n",
            "Epoch 68/80\n",
            "50000/50000 [==============================] - 1s 28us/step - loss: 0.3324 - accuracy: 0.8875\n",
            "Epoch 69/80\n",
            "50000/50000 [==============================] - 1s 28us/step - loss: 0.3286 - accuracy: 0.8891\n",
            "Epoch 70/80\n",
            "50000/50000 [==============================] - 1s 28us/step - loss: 0.3363 - accuracy: 0.8857\n",
            "Epoch 71/80\n",
            "50000/50000 [==============================] - 1s 28us/step - loss: 0.3147 - accuracy: 0.8933\n",
            "Epoch 72/80\n",
            "50000/50000 [==============================] - 1s 28us/step - loss: 0.3256 - accuracy: 0.8891\n",
            "Epoch 73/80\n",
            "50000/50000 [==============================] - 1s 28us/step - loss: 0.3356 - accuracy: 0.8861\n",
            "Epoch 74/80\n",
            "50000/50000 [==============================] - 1s 30us/step - loss: 0.3047 - accuracy: 0.8982\n",
            "Epoch 75/80\n",
            "50000/50000 [==============================] - 1s 28us/step - loss: 0.2917 - accuracy: 0.9005\n",
            "Epoch 76/80\n",
            "50000/50000 [==============================] - 1s 28us/step - loss: 0.3114 - accuracy: 0.8953\n",
            "Epoch 77/80\n",
            "50000/50000 [==============================] - 1s 28us/step - loss: 0.3174 - accuracy: 0.8922\n",
            "Epoch 78/80\n",
            "50000/50000 [==============================] - 1s 28us/step - loss: 0.3081 - accuracy: 0.8957\n",
            "Epoch 79/80\n",
            "50000/50000 [==============================] - 1s 29us/step - loss: 0.2933 - accuracy: 0.9014\n",
            "Epoch 80/80\n",
            "50000/50000 [==============================] - 1s 28us/step - loss: 0.2882 - accuracy: 0.9023\n"
          ],
          "name": "stdout"
        },
        {
          "output_type": "execute_result",
          "data": {
            "text/plain": [
              "<keras.callbacks.callbacks.History at 0x7f54790c8f60>"
            ]
          },
          "metadata": {
            "tags": []
          },
          "execution_count": 88
        }
      ]
    },
    {
      "cell_type": "code",
      "metadata": {
        "id": "vg-AYiLa8E3T",
        "colab_type": "code",
        "colab": {
          "base_uri": "https://localhost:8080/",
          "height": 69
        },
        "outputId": "d67b8857-674f-45f5-9c5e-2ff7ee6798eb"
      },
      "source": [
        "scores = model.evaluate(cv_images, cv_labels)\n",
        "print('Test loss:', scores[0])\n",
        "print('Test accuracy:', scores[1])"
      ],
      "execution_count": 89,
      "outputs": [
        {
          "output_type": "stream",
          "text": [
            "10000/10000 [==============================] - 1s 99us/step\n",
            "Test loss: 2.6337867588043213\n",
            "Test accuracy: 0.5453000068664551\n"
          ],
          "name": "stdout"
        }
      ]
    }
  ]
}